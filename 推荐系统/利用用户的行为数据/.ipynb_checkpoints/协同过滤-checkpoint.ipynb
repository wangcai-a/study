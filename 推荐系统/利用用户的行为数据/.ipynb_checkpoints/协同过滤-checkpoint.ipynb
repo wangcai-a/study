{
 "cells": [
  {
   "cell_type": "markdown",
   "metadata": {},
   "source": [
    "* __数据集__:GroupLens提供的MovieLens数据集"
   ]
  },
  {
   "cell_type": "markdown",
   "metadata": {},
   "source": [
    "* __实验设计__:"
   ]
  },
  {
   "cell_type": "code",
   "execution_count": 51,
   "metadata": {
    "collapsed": true
   },
   "outputs": [],
   "source": [
    "import pandas as pd\n",
    "import random\n",
    "import numpy as np"
   ]
  },
  {
   "cell_type": "code",
   "execution_count": 44,
   "metadata": {
    "scrolled": false
   },
   "outputs": [
    {
     "name": "stderr",
     "output_type": "stream",
     "text": [
      "/Users/pengyi/anaconda3/lib/python3.6/site-packages/ipykernel_launcher.py:2: ParserWarning: Falling back to the 'python' engine because the 'c' engine does not support regex separators (separators > 1 char and different from '\\s+' are interpreted as regex); you can avoid this warning by specifying engine='python'.\n",
      "  \n"
     ]
    },
    {
     "data": {
      "text/html": [
       "<div>\n",
       "<style>\n",
       "    .dataframe thead tr:only-child th {\n",
       "        text-align: right;\n",
       "    }\n",
       "\n",
       "    .dataframe thead th {\n",
       "        text-align: left;\n",
       "    }\n",
       "\n",
       "    .dataframe tbody tr th {\n",
       "        vertical-align: top;\n",
       "    }\n",
       "</style>\n",
       "<table border=\"1\" class=\"dataframe\">\n",
       "  <thead>\n",
       "    <tr style=\"text-align: right;\">\n",
       "      <th></th>\n",
       "      <th>id</th>\n",
       "      <th>name</th>\n",
       "      <th>performer</th>\n",
       "    </tr>\n",
       "  </thead>\n",
       "  <tbody>\n",
       "    <tr>\n",
       "      <th>0</th>\n",
       "      <td>1</td>\n",
       "      <td>Toy Story (1995)</td>\n",
       "      <td>Animation|Children's|Comedy</td>\n",
       "    </tr>\n",
       "    <tr>\n",
       "      <th>1</th>\n",
       "      <td>2</td>\n",
       "      <td>Jumanji (1995)</td>\n",
       "      <td>Adventure|Children's|Fantasy</td>\n",
       "    </tr>\n",
       "    <tr>\n",
       "      <th>2</th>\n",
       "      <td>3</td>\n",
       "      <td>Grumpier Old Men (1995)</td>\n",
       "      <td>Comedy|Romance</td>\n",
       "    </tr>\n",
       "    <tr>\n",
       "      <th>3</th>\n",
       "      <td>4</td>\n",
       "      <td>Waiting to Exhale (1995)</td>\n",
       "      <td>Comedy|Drama</td>\n",
       "    </tr>\n",
       "    <tr>\n",
       "      <th>4</th>\n",
       "      <td>5</td>\n",
       "      <td>Father of the Bride Part II (1995)</td>\n",
       "      <td>Comedy</td>\n",
       "    </tr>\n",
       "  </tbody>\n",
       "</table>\n",
       "</div>"
      ],
      "text/plain": [
       "   id                                name                     performer\n",
       "0   1                    Toy Story (1995)   Animation|Children's|Comedy\n",
       "1   2                      Jumanji (1995)  Adventure|Children's|Fantasy\n",
       "2   3             Grumpier Old Men (1995)                Comedy|Romance\n",
       "3   4            Waiting to Exhale (1995)                  Comedy|Drama\n",
       "4   5  Father of the Bride Part II (1995)                        Comedy"
      ]
     },
     "execution_count": 44,
     "metadata": {},
     "output_type": "execute_result"
    }
   ],
   "source": [
    "movies_columns = ['id', 'name', 'performer']\n",
    "movies = pd.read_table('movies.dat', encoding='iso-8859-1', sep='::', names=movies_columns)\n",
    "movies.head()"
   ]
  },
  {
   "cell_type": "code",
   "execution_count": 40,
   "metadata": {
    "scrolled": true
   },
   "outputs": [
    {
     "name": "stderr",
     "output_type": "stream",
     "text": [
      "/Users/pengyi/anaconda3/lib/python3.6/site-packages/ipykernel_launcher.py:2: ParserWarning: Falling back to the 'python' engine because the 'c' engine does not support regex separators (separators > 1 char and different from '\\s+' are interpreted as regex); you can avoid this warning by specifying engine='python'.\n",
      "  \n"
     ]
    },
    {
     "data": {
      "text/html": [
       "<div>\n",
       "<style>\n",
       "    .dataframe thead tr:only-child th {\n",
       "        text-align: right;\n",
       "    }\n",
       "\n",
       "    .dataframe thead th {\n",
       "        text-align: left;\n",
       "    }\n",
       "\n",
       "    .dataframe tbody tr th {\n",
       "        vertical-align: top;\n",
       "    }\n",
       "</style>\n",
       "<table border=\"1\" class=\"dataframe\">\n",
       "  <thead>\n",
       "    <tr style=\"text-align: right;\">\n",
       "      <th></th>\n",
       "      <th>user</th>\n",
       "      <th>movie</th>\n",
       "      <th>start</th>\n",
       "      <th>timestamp</th>\n",
       "    </tr>\n",
       "  </thead>\n",
       "  <tbody>\n",
       "    <tr>\n",
       "      <th>0</th>\n",
       "      <td>1</td>\n",
       "      <td>1193</td>\n",
       "      <td>5</td>\n",
       "      <td>978300760</td>\n",
       "    </tr>\n",
       "    <tr>\n",
       "      <th>1</th>\n",
       "      <td>1</td>\n",
       "      <td>661</td>\n",
       "      <td>3</td>\n",
       "      <td>978302109</td>\n",
       "    </tr>\n",
       "    <tr>\n",
       "      <th>2</th>\n",
       "      <td>1</td>\n",
       "      <td>914</td>\n",
       "      <td>3</td>\n",
       "      <td>978301968</td>\n",
       "    </tr>\n",
       "    <tr>\n",
       "      <th>3</th>\n",
       "      <td>1</td>\n",
       "      <td>3408</td>\n",
       "      <td>4</td>\n",
       "      <td>978300275</td>\n",
       "    </tr>\n",
       "    <tr>\n",
       "      <th>4</th>\n",
       "      <td>1</td>\n",
       "      <td>2355</td>\n",
       "      <td>5</td>\n",
       "      <td>978824291</td>\n",
       "    </tr>\n",
       "  </tbody>\n",
       "</table>\n",
       "</div>"
      ],
      "text/plain": [
       "   user  movie  start  timestamp\n",
       "0     1   1193      5  978300760\n",
       "1     1    661      3  978302109\n",
       "2     1    914      3  978301968\n",
       "3     1   3408      4  978300275\n",
       "4     1   2355      5  978824291"
      ]
     },
     "execution_count": 40,
     "metadata": {},
     "output_type": "execute_result"
    }
   ],
   "source": [
    "ratings_columns = ['user', 'movie', 'start', 'timestamp']\n",
    "ratings = pd.read_table('ratings.dat', encoding='iso-8859-1', sep='::', names=ratings_columns)\n",
    "ratings.head()"
   ]
  },
  {
   "cell_type": "code",
   "execution_count": 45,
   "metadata": {},
   "outputs": [
    {
     "name": "stderr",
     "output_type": "stream",
     "text": [
      "/Users/pengyi/anaconda3/lib/python3.6/site-packages/ipykernel_launcher.py:37: ParserWarning: Falling back to the 'python' engine because the 'c' engine does not support regex separators (separators > 1 char and different from '\\s+' are interpreted as regex); you can avoid this warning by specifying engine='python'.\n"
     ]
    },
    {
     "data": {
      "text/html": [
       "<div>\n",
       "<style>\n",
       "    .dataframe thead tr:only-child th {\n",
       "        text-align: right;\n",
       "    }\n",
       "\n",
       "    .dataframe thead th {\n",
       "        text-align: left;\n",
       "    }\n",
       "\n",
       "    .dataframe tbody tr th {\n",
       "        vertical-align: top;\n",
       "    }\n",
       "</style>\n",
       "<table border=\"1\" class=\"dataframe\">\n",
       "  <thead>\n",
       "    <tr style=\"text-align: right;\">\n",
       "      <th></th>\n",
       "      <th>id</th>\n",
       "      <th>sex</th>\n",
       "      <th>age</th>\n",
       "      <th>occupation</th>\n",
       "      <th>zip_code</th>\n",
       "    </tr>\n",
       "  </thead>\n",
       "  <tbody>\n",
       "    <tr>\n",
       "      <th>0</th>\n",
       "      <td>1</td>\n",
       "      <td>F</td>\n",
       "      <td>1</td>\n",
       "      <td>10</td>\n",
       "      <td>48067</td>\n",
       "    </tr>\n",
       "    <tr>\n",
       "      <th>1</th>\n",
       "      <td>2</td>\n",
       "      <td>M</td>\n",
       "      <td>56</td>\n",
       "      <td>16</td>\n",
       "      <td>70072</td>\n",
       "    </tr>\n",
       "    <tr>\n",
       "      <th>2</th>\n",
       "      <td>3</td>\n",
       "      <td>M</td>\n",
       "      <td>25</td>\n",
       "      <td>15</td>\n",
       "      <td>55117</td>\n",
       "    </tr>\n",
       "    <tr>\n",
       "      <th>3</th>\n",
       "      <td>4</td>\n",
       "      <td>M</td>\n",
       "      <td>45</td>\n",
       "      <td>7</td>\n",
       "      <td>02460</td>\n",
       "    </tr>\n",
       "    <tr>\n",
       "      <th>4</th>\n",
       "      <td>5</td>\n",
       "      <td>M</td>\n",
       "      <td>25</td>\n",
       "      <td>20</td>\n",
       "      <td>55455</td>\n",
       "    </tr>\n",
       "  </tbody>\n",
       "</table>\n",
       "</div>"
      ],
      "text/plain": [
       "   id sex  age  occupation zip_code\n",
       "0   1   F    1          10    48067\n",
       "1   2   M   56          16    70072\n",
       "2   3   M   25          15    55117\n",
       "3   4   M   45           7    02460\n",
       "4   5   M   25          20    55455"
      ]
     },
     "execution_count": 45,
     "metadata": {},
     "output_type": "execute_result"
    }
   ],
   "source": [
    "'''\n",
    "性别由男性的“M”和女性的“F”来表示。\n",
    "\n",
    "年龄从以下范围选择：\n",
    "* 1：“18岁以下”\n",
    "＊18：“18-24”\n",
    "＊25：“25-34”\n",
    "＊35：“35-44”\n",
    "＊45：“45-49”\n",
    "* 50：“50-55”\n",
    "* 56：“56 +”\n",
    "\n",
    "职业是从以下选择中选择的：\n",
    "* 0：“其他”或未指定\n",
    "* 1：“学术/教育家”\n",
    "* 2：“艺术家”\n",
    "＊3：“文书/行政”\n",
    "* 4：“大学/研究生”\n",
    "＊5：“客户服务”\n",
    "* 6：“医生/保健”\n",
    "* 7：“执行/管理”\n",
    "* 8：“农民”\n",
    "* 9：“家庭主妇”\n",
    "* 10：“K-12学生”\n",
    "* 11：“律师”\n",
    "* 12：“程序员”\n",
    "* 13：“退休”\n",
    "* 14：“销售/营销”\n",
    "* 15：“科学家”\n",
    "* 16：“个体经营”\n",
    "* 17：“技术员/工程师”\n",
    "* 18：“商人/工匠”\n",
    "＊19：“失业”\n",
    "* 20：“作家”\n",
    "'''\n",
    "user_columns = ['id', 'sex', 'age', 'occupation', 'zip_code']\n",
    "users = pd.read_table('users.dat', encoding='iso-8859-1', sep='::', names=user_columns)\n",
    "users.head()"
   ]
  },
  {
   "cell_type": "code",
   "execution_count": 76,
   "metadata": {
    "collapsed": true
   },
   "outputs": [],
   "source": [
    "# 切分用户行为数据数据为训练集和测试集\n",
    "def SplitData(X,test_size=0.3):\n",
    "    X_num=X.shape[0]\n",
    "    train_index=list(range(X_num))\n",
    "    test_index=[]\n",
    "    test_num=int(X_num*test_size)\n",
    "    for i in range(test_num):\n",
    "        randomIndex=int(np.random.uniform(0,len(train_index)))\n",
    "        test_index.append(train_index[randomIndex])\n",
    "        del train_index[randomIndex]\n",
    "    #train,test的index是抽取的数据集X的序号\n",
    "    train=X.ix[train_index] \n",
    "    test=X.ix[test_index]\n",
    "    return train,test\n",
    "train, test = SplitData(ratings)\n",
    "train = pd.DataFrame(train)\n",
    "test = pd.DataFrame(test)"
   ]
  },
  {
   "cell_type": "code",
   "execution_count": 88,
   "metadata": {
    "collapsed": true
   },
   "outputs": [],
   "source": [
    "# 计算召回率\n",
    "def Recall(train, test, N):\n",
    "    hit = 0\n",
    "    all = 0\n",
    "    for user in train.user:\n",
    "        tu = test(user)\n",
    "        rank = GetRecommendation(user, N)\n",
    "        for item, pui in rank:\n",
    "            if item in tu:\n",
    "                hit += 1\n",
    "        all += N\n",
    "    return hit/(all * 1.0)"
   ]
  },
  {
   "cell_type": "code",
   "execution_count": 90,
   "metadata": {
    "collapsed": true
   },
   "outputs": [],
   "source": [
    "# 计算准确率\n",
    "def Precision(train, test, N):\n",
    "    hit = 0\n",
    "    all = 0\n",
    "    for user in train.user:\n",
    "        tu = test(user)\n",
    "        rank = GetRecommendation(user, N)\n",
    "        for item, pui in rank:\n",
    "            if item in tu:\n",
    "                hit += 1\n",
    "        all += 1\n",
    "    return hit/(all * 1.0)"
   ]
  },
  {
   "cell_type": "markdown",
   "metadata": {
    "collapsed": true
   },
   "source": [
    "## 基于用户的协同过滤算法"
   ]
  },
  {
   "cell_type": "code",
   "execution_count": 94,
   "metadata": {},
   "outputs": [],
   "source": [
    "# 计算余弦相似度\n",
    "def UserSimilarity(trian):\n",
    "    w - dict()\n",
    "    for u in train.keys():\n",
    "        for v in train.keys:\n",
    "            if u == v:\n",
    "                continue\n",
    "            W[u][v] = len(train[u] & train[v])\n",
    "            # c/=a 等效于 c = c/a\n",
    "            W[u][v] /= math.sqrt(len(trian[u]) * len(trian[v] * 1))\n",
    "    return W\n",
    "\n",
    "# 利用物品到用户的倒排表,计算余弦相似度\n",
    "def UserSimilarity(trian):\n",
    "    item_users = dict()\n",
    "    for u, items in train.items():\n",
    "        for i in items.keys():\n",
    "            if i not in item_users:\n",
    "                item_users[i] = set()\n",
    "            item_users[i].add(u)\n",
    "    c = dict()\n",
    "    n = dict()\n",
    "    for i, users in item_users.items():\n",
    "        for u in users:\n",
    "            n[u] += 1\n",
    "            for v in users:\n",
    "                if u == v:\n",
    "                    continue\n",
    "                c[u][v] += 1\n",
    "    w = dict()\n",
    "    for u, related_users in c.items():\n",
    "        for v, cuv in related_users.items():\n",
    "            w[u][v] =cuv / math.sqrt(n[u] * n[v])\n",
    "    return w"
   ]
  },
  {
   "cell_type": "code",
   "execution_count": 106,
   "metadata": {},
   "outputs": [],
   "source": [
    "# UserCF推荐算法计算用户u对物品i的感兴趣程度\n",
    "def Recommend(user, train, W, K):\n",
    "    rank = dict()\n",
    "    interacted_items = train[user]\n",
    "    for v, wuv in sorted(W[u].items, key=itemgetter(1), reverse=True)[0:K]:\n",
    "        for i, rvi in train[v].items:\n",
    "            if i in iteracted_itmes:\n",
    "                continue\n",
    "            rank[i] += wuv * rvi\n",
    "    return rank"
   ]
  },
  {
   "cell_type": "code",
   "execution_count": 103,
   "metadata": {},
   "outputs": [],
   "source": [
    "# User-IIF算法\n",
    "def UserSimilarity(train):\n",
    "    # 建立物品用户倒排表\n",
    "    for u, items in train.items():\n",
    "        for i in tiems.keys():\n",
    "            if i not in items.users:\n",
    "                item_users[i] = set()\n",
    "    c - dict()\n",
    "    n = dict()\n",
    "    # 计算各个物品的用户相似评级\n",
    "    for i, user in item_users.items():\n",
    "        for u in users:\n",
    "            N[u] += 1\n",
    "            for v in users:\n",
    "                if u == v:\n",
    "                    continue\n",
    "                c[u][v] += 1 / math.log(1 + len(users))\n",
    "    w = dict()\n",
    "    # 计算用户相似度矩阵\n",
    "    for u, related_users in c.items():\n",
    "        for v, cuv in related_users.items():\n",
    "            w[u][v] = cuv / math.sqrt(n[u] * n[v])\n",
    "    return w"
   ]
  },
  {
   "cell_type": "markdown",
   "metadata": {},
   "source": [
    "## 基于物品的协同过滤算法"
   ]
  },
  {
   "cell_type": "code",
   "execution_count": 105,
   "metadata": {},
   "outputs": [],
   "source": [
    "# 利用ItemCF算法计算物品相似度\n",
    "def ItemSimilarity(trian):\n",
    "    # 建立物品倒排表\n",
    "    c = dict()\n",
    "    n = dict()\n",
    "    for u, items in train.items():\n",
    "        for i in users:\n",
    "            n[i] += 1\n",
    "            for i in users:\n",
    "                n[i] += 1\n",
    "                for j in users:\n",
    "                    if i==j:\n",
    "                        continue\n",
    "                    c[i][j] += 1\n",
    "    # 计算相似度矩阵\n",
    "    w = dict()\n",
    "    for i, related_tiems in c.items():\n",
    "        for j, cij in related_times.items():\n",
    "            w[u][v] = cij / math.sqrt(n[i] * n[j])\n",
    "    return w"
   ]
  },
  {
   "cell_type": "code",
   "execution_count": 108,
   "metadata": {},
   "outputs": [],
   "source": [
    "# 得到物品相似度后,ItemCF通过以下方法计算一个用户对物品j的兴趣\n",
    "def Recommentdation(train, user_id, w, k):\n",
    "    rank = dict()\n",
    "    ru = train(user_id)\n",
    "    for i, pi in ru.items():\n",
    "        for j, wj in sorted(w[i].items, key=itemgetter(1), reverse=True)[0:K]:\n",
    "            if j in ru:\n",
    "                continue\n",
    "            rank[j] += pi * wj\n",
    "    return rank"
   ]
  },
  {
   "cell_type": "markdown",
   "metadata": {},
   "source": [
    "## 隐语义模型"
   ]
  },
  {
   "cell_type": "code",
   "execution_count": null,
   "metadata": {
    "collapsed": true
   },
   "outputs": [],
   "source": [
    "# 实现负样本采样过程\n",
    "'''\n",
    "items为用户有过行为的物品\n",
    "items_pool为用户没有行为的候选物品\n",
    "'''\n",
    "def RandomSelectNegativeSample(self, items):\n",
    "    ret = dict()\n",
    "    for i in items.keys():\n",
    "        ret[i] = 1\n",
    "    n = 0\n",
    "    for in in range(0, len(item) * 3):\n",
    "        item = items_pool[random.randint(0, len(items_pool) -1)]\n",
    "        if item in ret:\n",
    "            comtinue\n",
    "        ret[item] = 0\n",
    "        n += 1\n",
    "        if n > len(items):\n",
    "            break\n",
    "    return ret"
   ]
  },
  {
   "cell_type": "code",
   "execution_count": null,
   "metadata": {
    "collapsed": true
   },
   "outputs": [],
   "source": [
    "# 随机梯度下降\n",
    "def LatentFactorModel(user_items, F, N, alpha, lambda):\n",
    "    [P, Q] = InitModel(user_items, F)\n",
    "    for step in range(0, N):\n",
    "        for user, items in user_items.items():\n",
    "            samples = RandSelectNegativeSamples(items)\n",
    "            for item, rui in samples.items():\n",
    "                eui = rui - Predict(user, item)\n",
    "                for f in range(0, F):\n",
    "                    P[user][f] += alpha * (eui * Q[item][f] - lambda * P[user][f])\n",
    "                    Q[item][f] += alpha * (eui * P[user][f] - lambda * Q[item][f])\n",
    "        alpha *= 0.9\n",
    "\n",
    "def Recommend(user, P, Q):\n",
    "    rank = dict()\n",
    "    for f, puf in p[user].items():\n",
    "        for i, qfi in Q[f].items():\n",
    "            if i not in rank:\n",
    "                rank[i] += puf * qfi\n",
    "    return rank"
   ]
  },
  {
   "cell_type": "markdown",
   "metadata": {},
   "source": [
    "## 基于图的推荐算法"
   ]
  },
  {
   "cell_type": "markdown",
   "metadata": {},
   "source": [
    "### 度量图中两个顶点的相关性方法\n",
    "* 两个顶点的路径数\n",
    "* 两个顶点的路径长度\n",
    "* 两个顶点之间的路径经过的顶点"
   ]
  },
  {
   "cell_type": "code",
   "execution_count": null,
   "metadata": {
    "collapsed": true
   },
   "outputs": [],
   "source": [
    "# 基于随机游走的PersonalRank算法\n",
    "def PersonalRank(G, alpha, root):\n",
    "    rank = dict()\n",
    "    rank = (x:0 for x in G.keys())\n",
    "    rank[root] = 1\n",
    "    for k in range(20):\n",
    "        tmp = (x:0 for x in G.keys())\n",
    "        for i, ri in G.items():\n",
    "            for j, wij in ri.items():\n",
    "                if j not in tmp:\n",
    "                    tmp[j] = 0\n",
    "                tmp[j] += 0.6 rank[i] / (1.0 * len(ri))\n",
    "                if j == root:\n",
    "                    tmp[j] += 1 - alpha\n",
    "        rank = tmp\n",
    "    rank = rank"
   ]
  }
 ],
 "metadata": {
  "kernelspec": {
   "display_name": "Python 3",
   "language": "python",
   "name": "python3"
  },
  "language_info": {
   "codemirror_mode": {
    "name": "ipython",
    "version": 3
   },
   "file_extension": ".py",
   "mimetype": "text/x-python",
   "name": "python",
   "nbconvert_exporter": "python",
   "pygments_lexer": "ipython3",
   "version": "3.6.2"
  }
 },
 "nbformat": 4,
 "nbformat_minor": 2
}
