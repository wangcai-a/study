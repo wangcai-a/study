{
 "cells": [
  {
   "cell_type": "code",
   "execution_count": 13,
   "metadata": {},
   "outputs": [],
   "source": [
    "import urllib\n",
    "from bs4 import BeautifulSoup\n",
    "import pymysql"
   ]
  },
  {
   "cell_type": "code",
   "execution_count": 14,
   "metadata": {
    "collapsed": true
   },
   "outputs": [],
   "source": [
    "# 构造一个单词表,这些单词将被忽略\n",
    "ignorewords = set(['the', 'of', 'to', 'and', 'a', 'in', 'is', 'it'])\n",
    "\n",
    "class crawler:\n",
    "    # 初始化crawler类并传入数据库名称\n",
    "    def __init__(self, dbname):\n",
    "        self.con = pymysql.connect(dbname)\n",
    "    \n",
    "    def __del__(self):\n",
    "        self.con.close()\n",
    "    \n",
    "    def dbcommit(self):\n",
    "        self.con.commit()\n",
    "    \n",
    "    # 辅助函数,用于获取条目的id,并且如果条目不存在,就将其加入数据库中\n",
    "    def getentryid(self, table, field, value, createnew=True):\n",
    "        return None\n",
    "    \n",
    "    # 为每个网页建立索引\n",
    "    def addtoindex(self, url, soup):\n",
    "        print('Indexing %s' %url)\n",
    "        \n",
    "    # 从一个HTML网页中提取文字(不带标签的)\n",
    "    def gettextnoly(self, soup):\n",
    "        return None\n",
    "    \n",
    "    # 根据任何非空白字符进行分词处理\n",
    "    def separatewords(self, text):\n",
    "        return None\n",
    "    \n",
    "    # 如果url已经建立过索引,则返回true\n",
    "    def isindexed(self, url):\n",
    "        return False\n",
    "    \n",
    "    # 添加一个关联两个网页的链接\n",
    "    def addlinkref(self, urlFrom, urlTo, linkText):\n",
    "        pass\n",
    "    \n",
    "    # 从一个小组网页开始进行广度优先搜索,直至某一给定深度\n",
    "    # 期间为网页建立索引\n",
    "    def crawl(self, pages, depth=2):\n",
    "        for i in range(depth):\n",
    "            newpages = set()\n",
    "            for page in pages:\n",
    "                try:\n",
    "                    c = urllib.request.urlopen(page)\n",
    "                except:\n",
    "                    print('Could not ipen %s' % page)\n",
    "                    continue\n",
    "                soup = BeautifulSoup(c.read())\n",
    "                self.addtoindex(page, soup)\n",
    "                \n",
    "                links = soup('a')\n",
    "                for link in links:\n",
    "                    if ('href' in dict(link.attrs)):\n",
    "                        url = urllib.request.urljoin(page, link['href'])\n",
    "                        if url.find(\"'\") != -1:\n",
    "                            continue\n",
    "                        url = url.split('#')[0] # 去掉位置部分\n",
    "                        if url[0:4] == 'http' and not self.isindexed(url):\n",
    "                            newpages.add(url)\n",
    "                        linkText = self.gettexttonly(link)\n",
    "                        self.addlinkref(page, url, linkText)\n",
    "                self.dbcommit()\n",
    "            pages = newpages\n",
    "    \n",
    "    # 创建数据库表\n",
    "    def createindextables(self):\n",
    "        pass"
   ]
  },
  {
   "cell_type": "code",
   "execution_count": null,
   "metadata": {
    "collapsed": true
   },
   "outputs": [],
   "source": []
  }
 ],
 "metadata": {
  "kernelspec": {
   "display_name": "Python 3",
   "language": "python",
   "name": "python3"
  },
  "language_info": {
   "codemirror_mode": {
    "name": "ipython",
    "version": 3
   },
   "file_extension": ".py",
   "mimetype": "text/x-python",
   "name": "python",
   "nbconvert_exporter": "python",
   "pygments_lexer": "ipython3",
   "version": "3.6.2"
  }
 },
 "nbformat": 4,
 "nbformat_minor": 2
}
