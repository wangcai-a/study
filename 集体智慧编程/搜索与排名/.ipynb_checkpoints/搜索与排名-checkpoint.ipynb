{
 "cells": [
  {
   "cell_type": "code",
   "execution_count": 5,
   "metadata": {},
   "outputs": [
    {
     "ename": "ModuleNotFoundError",
     "evalue": "No module named 'BeautifulSoup'",
     "output_type": "error",
     "traceback": [
      "\u001b[0;31m---------------------------------------------------------------------------\u001b[0m",
      "\u001b[0;31mModuleNotFoundError\u001b[0m                       Traceback (most recent call last)",
      "\u001b[0;32m<ipython-input-5-3a013113a9a3>\u001b[0m in \u001b[0;36m<module>\u001b[0;34m()\u001b[0m\n\u001b[1;32m      1\u001b[0m \u001b[0;32mimport\u001b[0m \u001b[0murllib\u001b[0m\u001b[0;34m\u001b[0m\u001b[0m\n\u001b[0;32m----> 2\u001b[0;31m \u001b[0;32mfrom\u001b[0m \u001b[0mBeautifulSoup\u001b[0m \u001b[0;32mimport\u001b[0m \u001b[0;34m*\u001b[0m\u001b[0;34m\u001b[0m\u001b[0m\n\u001b[0m",
      "\u001b[0;31mModuleNotFoundError\u001b[0m: No module named 'BeautifulSoup'"
     ]
    }
   ],
   "source": [
    "import urllib\n",
    "from BeautifulSoup import *"
   ]
  },
  {
   "cell_type": "code",
   "execution_count": 2,
   "metadata": {},
   "outputs": [],
   "source": [
    "class crawler:\n",
    "    # 初始化crawler类并传入数据库名称\n",
    "    def __init__(self, dbname):\n",
    "        pass\n",
    "    \n",
    "    def __del__(self):\n",
    "        pass\n",
    "    \n",
    "    def dbcommit(self):\n",
    "        pass\n",
    "    \n",
    "    # 辅助函数,用于获取条目的id,并且如果条目不存在,就将其加入数据库中\n",
    "    def getentryid(self, table, field, value, createnew=True):\n",
    "        return None\n",
    "    \n",
    "    # 为每个网页建立索引\n",
    "    def addtoindex(self, url, soup):\n",
    "        print('Indexing %s' %url)\n",
    "        \n",
    "    # 从一个HTML网页中提取文字(不带标签的)\n",
    "    def gettextnoly(self, soup):\n",
    "        return None\n",
    "    \n",
    "    # 根据任何非空白字符进行分词处理\n",
    "    def separatewords(self, text):\n",
    "        return None\n",
    "    \n",
    "    # 如果url已经建立过索引,则返回true\n",
    "    def isindexed(self, url):\n",
    "        return False\n",
    "    \n",
    "    # 添加一个关联两个网页的链接\n",
    "    def addlinkref(self, urlFrom, urlTo, linkText):\n",
    "        pass\n",
    "    \n",
    "    # 从一个小组网页开始进行广度优先搜索,直至某一给定深度\n",
    "    # 期间为网页建立索引\n",
    "    def crawl(self, pages, depth=2):\n",
    "        pass\n",
    "    \n",
    "    # 创建数据库表\n",
    "    def createindextables(self):\n",
    "        pass"
   ]
  }
 ],
 "metadata": {
  "kernelspec": {
   "display_name": "Python 3",
   "language": "python",
   "name": "python3"
  },
  "language_info": {
   "codemirror_mode": {
    "name": "ipython",
    "version": 3
   },
   "file_extension": ".py",
   "mimetype": "text/x-python",
   "name": "python",
   "nbconvert_exporter": "python",
   "pygments_lexer": "ipython3",
   "version": "3.6.2"
  }
 },
 "nbformat": 4,
 "nbformat_minor": 2
}
