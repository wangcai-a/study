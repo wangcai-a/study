{
 "cells": [
  {
   "cell_type": "code",
   "execution_count": 50,
   "metadata": {},
   "outputs": [
    {
     "data": {
      "text/plain": [
       "{'Claudia Puig': {'Just My Luck': 3.0,\n",
       "  'Snakes on a Plane': 3.5,\n",
       "  'Superman Returns': 4.0,\n",
       "  'The Night Listener': 4.5,\n",
       "  'You, Me and Dupree': 2.5},\n",
       " 'Gene Seymour': {'Just My Luck': 1.5,\n",
       "  'Lady in the Water': 3.0,\n",
       "  'Snakes on a Plane': 3.5,\n",
       "  'Superman Returns': 5.0,\n",
       "  'The Night Listener': 3.0,\n",
       "  'You, Me and Dupree': 3.5},\n",
       " 'Jack Matthews': {'Lady in the Water': 3.0,\n",
       "  'Snakes on a Plane': 4.0,\n",
       "  'Superman Returns': 5.0,\n",
       "  'The Night Listener': 3.0,\n",
       "  'You, Me and Dupree': 3.5},\n",
       " 'Lisa Rose': {'Just My Luck': 3.0,\n",
       "  'Lady in the Water': 2.5,\n",
       "  'Snakes on a Plane': 3.5,\n",
       "  'Superman Returns': 3.5,\n",
       "  'The Night Listener': 3.0,\n",
       "  'You, Me and Dupree': 2.5},\n",
       " 'Michael Phillips': {'Lady in the Water': 2.5,\n",
       "  'Snakes on a Plane': 3.0,\n",
       "  'Superman Returns': 3.5,\n",
       "  'The Night Listener': 4.0},\n",
       " 'Mick LaSalle': {'Just My Luck': 2.0,\n",
       "  'Lady in the Water': 3.0,\n",
       "  'Snakes on a Plane': 4.0,\n",
       "  'Superman Returns': 3.0,\n",
       "  'The Night Listener': 3.0,\n",
       "  'You, Me and Dupree': 2.0},\n",
       " 'Toby': {'Snakes on a Plane': 4.5,\n",
       "  'Superman Returns': 4.0,\n",
       "  'You, Me and Dupree': 1.0}}"
      ]
     },
     "execution_count": 50,
     "metadata": {},
     "output_type": "execute_result"
    }
   ],
   "source": [
    "from recommendations import critics\n",
    "from math import sqrt\n",
    "critics"
   ]
  },
  {
   "cell_type": "markdown",
   "metadata": {},
   "source": [
    "### 欧几里得距离评价"
   ]
  },
  {
   "cell_type": "code",
   "execution_count": 24,
   "metadata": {},
   "outputs": [
    {
     "data": {
      "text/plain": [
       "0.29429805508554946"
      ]
     },
     "execution_count": 24,
     "metadata": {},
     "output_type": "execute_result"
    }
   ],
   "source": [
    "# 返回两个人的距离相似度评价\n",
    "def sim_distance(prefs, person1, person2):\n",
    "    # 得到shared_items的列表\n",
    "    si = dict()\n",
    "    for item in prefs[person1]:\n",
    "        if item in prefs[person2]:\n",
    "            si[item] = 1\n",
    "    # 如果两者没有共同之处,则返回0\n",
    "    if len(si) == 0: return 0\n",
    "    # 计算所有差值平方和(pow()返回x^y)\n",
    "    sum_of_squares = sum([pow(prefs[person1][item]-prefs[person2][item],2)\n",
    "                        for item in prefs[person1] if item in prefs[person2]])\n",
    "    # 将sum_of_sqares加1避免被0整除,并取倒数\n",
    "    return 1/(1+sqrt(sum_of_squares))\n",
    "\n",
    "# 试计算Lisa Rose,Gene Seymour之间的相似度评价\n",
    "sim_distance(critics, 'Lisa Rose', 'Gene Seymour')"
   ]
  },
  {
   "cell_type": "markdown",
   "metadata": {},
   "source": [
    "### 皮尔逊相关系数"
   ]
  },
  {
   "cell_type": "code",
   "execution_count": 25,
   "metadata": {},
   "outputs": [
    {
     "data": {
      "text/plain": [
       "0.39605901719066977"
      ]
     },
     "execution_count": 25,
     "metadata": {},
     "output_type": "execute_result"
    }
   ],
   "source": [
    "def sim_pearson(prefs, p1, p2):\n",
    "    # 得到曾经评价过的物品列表\n",
    "    si = {}\n",
    "    for item in prefs[p1]:\n",
    "        if item in prefs[p2]: \n",
    "            si[item]=1\n",
    "    \n",
    "    # 得到列表元素的个数\n",
    "    n = len(si)\n",
    "    \n",
    "    # 如果两者没有共同之处,则返回1\n",
    "    if n==0: \n",
    "        return 1\n",
    "   \n",
    "    # 对所有偏好求和\n",
    "    sum1 = sum([prefs[p1][it] for it in si])\n",
    "    sum2 = sum([prefs[p2][it] for it in si])\n",
    "    \n",
    "    # 求平方和\n",
    "    sum1sq = sum([pow(prefs[p1][it],2) for it in si])\n",
    "    sum2sq = sum([pow(prefs[p2][it],2) for it in si])\n",
    "    \n",
    "    # 求乘积之和\n",
    "    psum = sum([prefs[p1][it] * prefs[p2][it] for it in si])\n",
    "    \n",
    "    # 计算皮尔逊评价值\n",
    "    num = psum - (sum1*sum2/n)\n",
    "    den = sqrt((sum1sq-pow(sum1,2)/n) * (sum2sq - pow(sum2,2)/n))\n",
    "    if den==0:\n",
    "        return 0\n",
    "    r = num/den\n",
    "    return r\n",
    "\n",
    "# 计算Lisa Rose和Gene Seymour的相关系数(输出范围为-1到1)\n",
    "sim_pearson(critics, 'Lisa Rose', 'Gene Seymour')"
   ]
  },
  {
   "cell_type": "markdown",
   "metadata": {},
   "source": [
    "### 使用上面的方法为评论者打分"
   ]
  },
  {
   "cell_type": "code",
   "execution_count": 18,
   "metadata": {},
   "outputs": [
    {
     "data": {
      "text/plain": [
       "[(0.9912407071619299, 'Lisa Rose'),\n",
       " (0.9244734516419049, 'Mick LaSalle'),\n",
       " (0.8934051474415647, 'Claudia Puig')]"
      ]
     },
     "execution_count": 18,
     "metadata": {},
     "output_type": "execute_result"
    }
   ],
   "source": [
    "# 从反映偏好的字典中返回最为匹配者\n",
    "# 返回结果的个数和相似度函数均为可选参数\n",
    "'''\n",
    "prefs:评价数据集\n",
    "person:数据集里面的人\n",
    "n:返回最相近的人的个数\n",
    "'''\n",
    "def topMatches(prefs, person, n=5, similarity=sim_pearson):\n",
    "    scores = [(similarity(prefs, person, other), other) for other in prefs if other!=person]\n",
    "    \n",
    "    # 对列表进行排序,评价值最高者排在最前面\n",
    "    scores.sort()\n",
    "    scores.reverse()\n",
    "    return scores[0:n]\n",
    "topMatches(critics, 'Toby', n=3)"
   ]
  },
  {
   "cell_type": "code",
   "execution_count": 39,
   "metadata": {
    "collapsed": true
   },
   "outputs": [],
   "source": [
    "def getRecommendations(prefs, person, simlarity=sim_pearson):\n",
    "    totals = {}\n",
    "    simSums = {}\n",
    "    for other in prefs:\n",
    "        # 不和自己做比较 \n",
    "        if other == person: continue\n",
    "        sim = simlarity(prefs, person, other)\n",
    "        \n",
    "        # 忽略评价值为零或者小于零的情况\n",
    "        if sim<=0: continue\n",
    "        for item in prefs[other]:\n",
    "            # 只对自己还未曾看过的影片进行评价\n",
    "            if item not in prefs[person] or prefs[person][item]==0:\n",
    "                # 相似度 * 评价值\n",
    "                totals.setdefault(item, 0)\n",
    "                totals[item] += prefs[other][item]*sim\n",
    "                # 相似度之和\n",
    "                simSums.setdefault(item, 0)\n",
    "                simSums[item] += sim\n",
    "    # 建立一个归一化的列表\n",
    "    rankings = [(total/simSums[item],item) for item, total in totals.items()]\n",
    "    \n",
    "    # 返回经过排序的列表\n",
    "    rankings.sort()\n",
    "    rankings.reverse()\n",
    "    return rankings"
   ]
  },
  {
   "cell_type": "code",
   "execution_count": 40,
   "metadata": {},
   "outputs": [
    {
     "data": {
      "text/plain": [
       "[(3.3477895267131017, 'The Night Listener'),\n",
       " (2.8325499182641614, 'Lady in the Water'),\n",
       " (2.530980703765565, 'Just My Luck')]"
      ]
     },
     "execution_count": 40,
     "metadata": {},
     "output_type": "execute_result"
    }
   ],
   "source": [
    "# pearson相关系数评价\n",
    "getRecommendations(critics, 'Toby')"
   ]
  },
  {
   "cell_type": "code",
   "execution_count": 41,
   "metadata": {},
   "outputs": [
    {
     "data": {
      "text/plain": [
       "[(3.457128694491423, 'The Night Listener'),\n",
       " (2.778584003814924, 'Lady in the Water'),\n",
       " (2.422482042361917, 'Just My Luck')]"
      ]
     },
     "execution_count": 41,
     "metadata": {},
     "output_type": "execute_result"
    }
   ],
   "source": [
    "# 欧几里得距离评价\n",
    "getRecommendations(critics, 'Toby', simlarity=sim_distance)"
   ]
  },
  {
   "cell_type": "markdown",
   "metadata": {},
   "source": [
    "### 物品间的相关度"
   ]
  },
  {
   "cell_type": "code",
   "execution_count": 46,
   "metadata": {
    "collapsed": true
   },
   "outputs": [],
   "source": [
    "# 使用原来的方法将物品和人员对调\n",
    "def transformPrefs(prefs):\n",
    "    result = {}\n",
    "    for person in prefs:\n",
    "        for item in prefs[person]:\n",
    "            result.setdefault(item, {})\n",
    "            # 将物品和人员对调\n",
    "            result[item][person] = prefs[person][item]\n",
    "    return result"
   ]
  },
  {
   "cell_type": "code",
   "execution_count": 47,
   "metadata": {},
   "outputs": [
    {
     "data": {
      "text/plain": [
       "[(0.6579516949597695, 'You, Me and Dupree'),\n",
       " (0.4879500364742689, 'Lady in the Water'),\n",
       " (0.11180339887498941, 'Snakes on a Plane'),\n",
       " (-0.1798471947990544, 'The Night Listener'),\n",
       " (-0.42289003161103106, 'Just My Luck')]"
      ]
     },
     "execution_count": 47,
     "metadata": {},
     "output_type": "execute_result"
    }
   ],
   "source": [
    "# 调用topMathes函数,得到一组与<Superman Returns>最为相近的影片\n",
    "movies = transformPrefs(critics)\n",
    "topMatches(movies, 'Superman Returns')"
   ]
  },
  {
   "cell_type": "markdown",
   "metadata": {},
   "source": [
    "### 基于物品的过滤"
   ]
  },
  {
   "cell_type": "code",
   "execution_count": 58,
   "metadata": {
    "collapsed": true
   },
   "outputs": [],
   "source": [
    "# 构造物品比较数据集\n",
    "def calculateSimilarItems(prefs, n=10):\n",
    "    # 建立字典,以给出与这些物品最为相近的所有其他物品\n",
    "    result = {}\n",
    "    \n",
    "    # 以物品为中心对偏好矩阵实施倒置处理\n",
    "    itemPrefs = transformPrefs(prefs)\n",
    "    c = 0\n",
    "    for item in itemPrefs:\n",
    "        # 针对大数据集更新状态变量\n",
    "        c += 1\n",
    "        # 对c进行取模操作\n",
    "        if c%100==0:\n",
    "            print(\"%d / %d\" % (c, len(itemPrefs)))\n",
    "        # 寻找最为相近的物品\n",
    "        scores = topMatches(itemPrefs, item, n=n, similarity=sim_distance)\n",
    "        result[item] = scores\n",
    "    return result"
   ]
  },
  {
   "cell_type": "code",
   "execution_count": 95,
   "metadata": {},
   "outputs": [
    {
     "data": {
      "text/plain": [
       "{'Just My Luck': [(0.3483314773547883, 'Lady in the Water'),\n",
       "  (0.32037724101704074, 'You, Me and Dupree'),\n",
       "  (0.2989350844248255, 'The Night Listener'),\n",
       "  (0.2553967929896867, 'Snakes on a Plane'),\n",
       "  (0.20799159651347807, 'Superman Returns')],\n",
       " 'Lady in the Water': [(0.4494897427831781, 'You, Me and Dupree'),\n",
       "  (0.38742588672279304, 'The Night Listener'),\n",
       "  (0.3483314773547883, 'Snakes on a Plane'),\n",
       "  (0.3483314773547883, 'Just My Luck'),\n",
       "  (0.2402530733520421, 'Superman Returns')],\n",
       " 'Snakes on a Plane': [(0.3483314773547883, 'Lady in the Water'),\n",
       "  (0.32037724101704074, 'The Night Listener'),\n",
       "  (0.3090169943749474, 'Superman Returns'),\n",
       "  (0.2553967929896867, 'Just My Luck'),\n",
       "  (0.1886378647726465, 'You, Me and Dupree')],\n",
       " 'Superman Returns': [(0.3090169943749474, 'Snakes on a Plane'),\n",
       "  (0.252650308587072, 'The Night Listener'),\n",
       "  (0.2402530733520421, 'Lady in the Water'),\n",
       "  (0.20799159651347807, 'Just My Luck'),\n",
       "  (0.1918253663634734, 'You, Me and Dupree')],\n",
       " 'The Night Listener': [(0.38742588672279304, 'Lady in the Water'),\n",
       "  (0.32037724101704074, 'Snakes on a Plane'),\n",
       "  (0.2989350844248255, 'Just My Luck'),\n",
       "  (0.29429805508554946, 'You, Me and Dupree'),\n",
       "  (0.252650308587072, 'Superman Returns')],\n",
       " 'You, Me and Dupree': [(0.4494897427831781, 'Lady in the Water'),\n",
       "  (0.32037724101704074, 'Just My Luck'),\n",
       "  (0.29429805508554946, 'The Night Listener'),\n",
       "  (0.1918253663634734, 'Superman Returns'),\n",
       "  (0.1886378647726465, 'Snakes on a Plane')]}"
      ]
     },
     "execution_count": 95,
     "metadata": {},
     "output_type": "execute_result"
    }
   ],
   "source": [
    "itemsim = calculateSimilarItems(critics)\n",
    "itemsim"
   ]
  },
  {
   "cell_type": "code",
   "execution_count": 106,
   "metadata": {
    "collapsed": true
   },
   "outputs": [],
   "source": [
    "# 对影片评分进行归一化计算\n",
    "def getRecommendedItems(prefs, itemMatch, user):\n",
    "    userRatings = prefs[user]\n",
    "    scores = {}\n",
    "    totalSim = {}\n",
    "    \n",
    "    # 循环遍历由当前用户评分的物品\n",
    "    for (item, rating) in userRatings.items():\n",
    "        # 循环遍历当前物品相近的物品\n",
    "        for (similarity, item2) in itemMatch[item]:\n",
    "            # 如果该用户已经对当前物品做过评价,则将其忽略\n",
    "            if item2 in userRatings:\n",
    "                continue\n",
    "            scores.setdefault(item2, 0)\n",
    "            scores[item2] += similarity * rating\n",
    "            \n",
    "            # 全部相似度之和\n",
    "            totalSim.setdefault(item2, 0)\n",
    "            totalSim[item2] += similarity\n",
    "    # 将每个和机制除以加权和,求出平均值\n",
    "    rankings = [(score / totalSim[item], item) for item, score in scores.items()]\n",
    "    \n",
    "    # 按最高值到最低值的顺序,返回评价结果\n",
    "    rankings.sort()\n",
    "    rankings.reverse()\n",
    "    return rankings"
   ]
  },
  {
   "cell_type": "code",
   "execution_count": 107,
   "metadata": {},
   "outputs": [
    {
     "data": {
      "text/plain": [
       "[(3.1667425234070894, 'The Night Listener'),\n",
       " (2.9366294028444346, 'Just My Luck'),\n",
       " (2.868767392626467, 'Lady in the Water')]"
      ]
     },
     "execution_count": 107,
     "metadata": {},
     "output_type": "execute_result"
    }
   ],
   "source": [
    "# 运行函数,为Toby提供推荐结果\n",
    "getRecommendedItems(critics, itemsim, 'Toby')"
   ]
  },
  {
   "cell_type": "markdown",
   "metadata": {
    "collapsed": true
   },
   "source": [
    "### 使用Movielens数据集"
   ]
  },
  {
   "cell_type": "code",
   "execution_count": 123,
   "metadata": {},
   "outputs": [
    {
     "data": {
      "text/plain": [
       "{'101 Dalmatians (1996)': 2.0,\n",
       " '12 Angry Men (1957)': 5.0,\n",
       " '20,000 Leagues Under the Sea (1954)': 3.0,\n",
       " '2001: A Space Odyssey (1968)': 4.0,\n",
       " 'Abyss, The (1989)': 3.0,\n",
       " 'Ace Ventura: Pet Detective (1994)': 3.0,\n",
       " 'Air Bud (1997)': 1.0,\n",
       " 'Akira (1988)': 4.0,\n",
       " 'Aladdin (1992)': 4.0,\n",
       " 'Alien (1979)': 5.0,\n",
       " 'Aliens (1986)': 5.0,\n",
       " 'All Dogs Go to Heaven 2 (1996)': 1.0,\n",
       " 'Amadeus (1984)': 5.0,\n",
       " 'Angels and Insects (1995)': 4.0,\n",
       " \"Antonia's Line (1995)\": 5.0,\n",
       " 'Apocalypse Now (1979)': 3.0,\n",
       " 'Apollo 13 (1995)': 4.0,\n",
       " 'Aristocats, The (1970)': 2.0,\n",
       " 'Army of Darkness (1993)': 4.0,\n",
       " 'Austin Powers: International Man of Mystery (1997)': 4.0,\n",
       " 'Babe (1995)': 1.0,\n",
       " 'Back to the Future (1985)': 5.0,\n",
       " 'Bad Boys (1995)': 2.0,\n",
       " 'Basic Instinct (1992)': 3.0,\n",
       " 'Batman & Robin (1997)': 1.0,\n",
       " 'Batman Forever (1995)': 1.0,\n",
       " 'Batman Returns (1992)': 1.0,\n",
       " 'Beavis and Butt-head Do America (1996)': 3.0,\n",
       " 'Bedknobs and Broomsticks (1971)': 2.0,\n",
       " 'Belle de jour (1967)': 3.0,\n",
       " 'Big Night (1996)': 5.0,\n",
       " 'Billy Madison (1995)': 2.0,\n",
       " 'Birdcage, The (1996)': 4.0,\n",
       " 'Blade Runner (1982)': 5.0,\n",
       " 'Blues Brothers, The (1980)': 4.0,\n",
       " 'Bound (1996)': 5.0,\n",
       " \"Bram Stoker's Dracula (1992)\": 3.0,\n",
       " 'Braveheart (1995)': 4.0,\n",
       " 'Brazil (1985)': 5.0,\n",
       " \"Breakfast at Tiffany's (1961)\": 1.0,\n",
       " 'Breaking the Waves (1996)': 5.0,\n",
       " 'Bridge on the River Kwai, The (1957)': 4.0,\n",
       " 'Brother Minister: The Assassination of Malcolm X (1994)': 4.0,\n",
       " 'Brothers McMullen, The (1995)': 3.0,\n",
       " 'Cable Guy, The (1996)': 3.0,\n",
       " 'Cape Fear (1991)': 3.0,\n",
       " \"Carlito's Way (1993)\": 4.0,\n",
       " 'Chasing Amy (1997)': 5.0,\n",
       " 'Cinema Paradiso (1988)': 5.0,\n",
       " 'Citizen Kane (1941)': 4.0,\n",
       " 'Citizen Ruth (1996)': 4.0,\n",
       " 'Clerks (1994)': 5.0,\n",
       " 'Clockwork Orange, A (1971)': 3.0,\n",
       " 'Cold Comfort Farm (1995)': 3.0,\n",
       " 'Contact (1997)': 5.0,\n",
       " 'Copycat (1995)': 3.0,\n",
       " 'Crimson Tide (1995)': 3.0,\n",
       " 'Crow, The (1994)': 4.0,\n",
       " 'Crumb (1994)': 5.0,\n",
       " 'Cyrano de Bergerac (1990)': 5.0,\n",
       " 'D3: The Mighty Ducks (1996)': 1.0,\n",
       " 'Dances with Wolves (1990)': 3.0,\n",
       " 'Dead Man Walking (1995)': 5.0,\n",
       " 'Dead Poets Society (1989)': 5.0,\n",
       " 'Delicatessen (1991)': 5.0,\n",
       " 'Desperado (1995)': 4.0,\n",
       " \"Devil's Own, The (1997)\": 2.0,\n",
       " 'Diabolique (1996)': 4.0,\n",
       " 'Die Hard (1988)': 4.0,\n",
       " 'Die Hard 2 (1990)': 3.0,\n",
       " 'Dirty Dancing (1987)': 2.0,\n",
       " 'Disclosure (1994)': 4.0,\n",
       " 'Dolores Claiborne (1994)': 5.0,\n",
       " 'Doom Generation, The (1995)': 2.0,\n",
       " 'Eat Drink Man Woman (1994)': 5.0,\n",
       " 'Ed Wood (1994)': 4.0,\n",
       " 'Empire Strikes Back, The (1980)': 5.0,\n",
       " 'Event Horizon (1997)': 1.0,\n",
       " 'Evil Dead II (1987)': 3.0,\n",
       " 'Exotica (1994)': 4.0,\n",
       " 'Fargo (1996)': 5.0,\n",
       " 'Faster Pussycat! Kill! Kill! (1965)': 1.0,\n",
       " 'Field of Dreams (1989)': 3.0,\n",
       " 'Fifth Element, The (1997)': 4.0,\n",
       " 'Firm, The (1993)': 4.0,\n",
       " 'Fish Called Wanda, A (1988)': 3.0,\n",
       " 'Flipper (1996)': 1.0,\n",
       " 'Forrest Gump (1994)': 3.0,\n",
       " 'Four Rooms (1995)': 4.0,\n",
       " 'Four Weddings and a Funeral (1994)': 3.0,\n",
       " 'Free Willy (1993)': 1.0,\n",
       " 'Free Willy 2: The Adventure Home (1995)': 1.0,\n",
       " 'French Twist (Gazon maudit) (1995)': 5.0,\n",
       " 'Frighteners, The (1996)': 4.0,\n",
       " 'From Dusk Till Dawn (1996)': 3.0,\n",
       " 'Fugitive, The (1993)': 4.0,\n",
       " 'Full Metal Jacket (1987)': 3.0,\n",
       " 'Full Monty, The (1997)': 5.0,\n",
       " 'Gattaca (1997)': 5.0,\n",
       " 'George of the Jungle (1997)': 1.0,\n",
       " 'Get Shorty (1995)': 3.0,\n",
       " 'Ghost and the Darkness, The (1996)': 2.0,\n",
       " 'Glengarry Glen Ross (1992)': 4.0,\n",
       " 'Godfather, The (1972)': 5.0,\n",
       " 'Godfather: Part II, The (1974)': 4.0,\n",
       " 'GoldenEye (1995)': 3.0,\n",
       " 'Gone with the Wind (1939)': 4.0,\n",
       " 'Good Will Hunting (1997)': 3.0,\n",
       " 'Good, The Bad and The Ugly, The (1966)': 5.0,\n",
       " 'GoodFellas (1990)': 4.0,\n",
       " 'Graduate, The (1967)': 5.0,\n",
       " 'Grand Day Out, A (1992)': 3.0,\n",
       " 'Grosse Pointe Blank (1997)': 4.0,\n",
       " 'Groundhog Day (1993)': 5.0,\n",
       " 'Haunted World of Edward D. Wood Jr., The (1995)': 5.0,\n",
       " 'Heavy Metal (1981)': 2.0,\n",
       " 'Henry V (1989)': 5.0,\n",
       " 'Home Alone (1990)': 2.0,\n",
       " 'Homeward Bound: The Incredible Journey (1993)': 1.0,\n",
       " 'Hoop Dreams (1994)': 5.0,\n",
       " 'Horseman on the Roof, The (Hussard sur le toit, Le) (1995)': 5.0,\n",
       " 'Hot Shots! Part Deux (1993)': 4.0,\n",
       " 'Hudsucker Proxy, The (1994)': 5.0,\n",
       " 'Hunt for Red October, The (1990)': 4.0,\n",
       " 'I.Q. (1994)': 3.0,\n",
       " 'In the Company of Men (1997)': 3.0,\n",
       " 'Independence Day (ID4) (1996)': 4.0,\n",
       " 'Indiana Jones and the Last Crusade (1989)': 4.0,\n",
       " 'Jaws (1975)': 4.0,\n",
       " 'Jean de Florette (1986)': 5.0,\n",
       " 'Jerry Maguire (1996)': 2.0,\n",
       " 'Jude (1996)': 2.0,\n",
       " 'Jungle2Jungle (1997)': 1.0,\n",
       " 'Jurassic Park (1993)': 5.0,\n",
       " 'Kansas City (1996)': 3.0,\n",
       " 'Kids in the Hall: Brain Candy (1996)': 5.0,\n",
       " 'Kolya (1996)': 5.0,\n",
       " 'Kull the Conqueror (1997)': 1.0,\n",
       " 'Last of the Mohicans, The (1992)': 4.0,\n",
       " 'Lawnmower Man, The (1992)': 2.0,\n",
       " 'Legends of the Fall (1994)': 4.0,\n",
       " 'Lion King, The (1994)': 3.0,\n",
       " 'Lone Star (1996)': 5.0,\n",
       " 'Long Kiss Goodnight, The (1996)': 3.0,\n",
       " 'Lost World: Jurassic Park, The (1997)': 2.0,\n",
       " 'Love Bug, The (1969)': 3.0,\n",
       " 'M*A*S*H (1970)': 3.0,\n",
       " 'Mad Love (1995)': 2.0,\n",
       " 'Madness of King George, The (1994)': 4.0,\n",
       " 'Manon of the Spring (Manon des sources) (1986)': 5.0,\n",
       " 'Mars Attacks! (1996)': 5.0,\n",
       " 'Mask, The (1994)': 4.0,\n",
       " 'Maverick (1994)': 3.0,\n",
       " 'Maya Lin: A Strong Clear Vision (1994)': 5.0,\n",
       " 'Men in Black (1997)': 4.0,\n",
       " 'Mighty Aphrodite (1995)': 5.0,\n",
       " 'Mimic (1997)': 2.0,\n",
       " 'Mirror Has Two Faces, The (1996)': 3.0,\n",
       " 'Moll Flanders (1996)': 4.0,\n",
       " 'Monty Python and the Holy Grail (1974)': 5.0,\n",
       " \"Monty Python's Life of Brian (1979)\": 5.0,\n",
       " \"Mr. Holland's Opus (1995)\": 5.0,\n",
       " 'Mr. Smith Goes to Washington (1939)': 3.0,\n",
       " 'Much Ado About Nothing (1993)': 3.0,\n",
       " 'Muppet Treasure Island (1996)': 1.0,\n",
       " \"My Best Friend's Wedding (1997)\": 2.0,\n",
       " 'Mystery Science Theater 3000: The Movie (1996)': 5.0,\n",
       " 'Nadja (1994)': 2.0,\n",
       " 'Natural Born Killers (1994)': 3.0,\n",
       " 'Net, The (1995)': 3.0,\n",
       " 'Nightmare Before Christmas, The (1993)': 5.0,\n",
       " 'Nightmare on Elm Street, A (1984)': 1.0,\n",
       " 'Nikita (La Femme Nikita) (1990)': 5.0,\n",
       " 'On Golden Pond (1981)': 4.0,\n",
       " 'Operation Dumbo Drop (1995)': 1.0,\n",
       " 'Outbreak (1995)': 3.0,\n",
       " 'Patton (1970)': 3.0,\n",
       " 'Phenomenon (1996)': 3.0,\n",
       " 'Pillow Book, The (1995)': 5.0,\n",
       " 'Pink Floyd - The Wall (1982)': 4.0,\n",
       " 'Platoon (1986)': 4.0,\n",
       " 'Postino, Il (1994)': 5.0,\n",
       " 'Priest (1994)': 5.0,\n",
       " 'Princess Bride, The (1987)': 5.0,\n",
       " 'Private Benjamin (1980)': 2.0,\n",
       " 'Professional, The (1994)': 5.0,\n",
       " 'Psycho (1960)': 4.0,\n",
       " 'Pulp Fiction (1994)': 4.0,\n",
       " 'Quiz Show (1994)': 4.0,\n",
       " 'Raging Bull (1980)': 4.0,\n",
       " 'Raiders of the Lost Ark (1981)': 5.0,\n",
       " 'Raising Arizona (1987)': 4.0,\n",
       " 'Ref, The (1994)': 3.0,\n",
       " 'Remains of the Day, The (1993)': 5.0,\n",
       " 'Reservoir Dogs (1992)': 4.0,\n",
       " 'Return of the Jedi (1983)': 5.0,\n",
       " 'Return of the Pink Panther, The (1974)': 4.0,\n",
       " 'Richard III (1995)': 3.0,\n",
       " 'Ridicule (1996)': 5.0,\n",
       " 'Right Stuff, The (1983)': 4.0,\n",
       " \"Robert A. Heinlein's The Puppet Masters (1994)\": 4.0,\n",
       " 'Rock, The (1996)': 3.0,\n",
       " 'Room with a View, A (1986)': 2.0,\n",
       " 'Rumble in the Bronx (1995)': 3.0,\n",
       " 'Santa Clause, The (1994)': 2.0,\n",
       " 'Searching for Bobby Fischer (1993)': 5.0,\n",
       " 'Seven (Se7en) (1995)': 2.0,\n",
       " 'Sgt. Bilko (1996)': 2.0,\n",
       " 'Shall We Dance? (1996)': 4.0,\n",
       " 'Shanghai Triad (Yao a yao yao dao waipo qiao) (1995)': 5.0,\n",
       " 'Shawshank Redemption, The (1994)': 5.0,\n",
       " 'Shining, The (1980)': 3.0,\n",
       " 'Silence of the Lambs, The (1991)': 4.0,\n",
       " 'Sleeper (1973)': 5.0,\n",
       " 'Sleepless in Seattle (1993)': 4.0,\n",
       " 'Sling Blade (1996)': 5.0,\n",
       " \"Smilla's Sense of Snow (1997)\": 2.0,\n",
       " 'Sneakers (1992)': 4.0,\n",
       " 'Snow White and the Seven Dwarfs (1937)': 3.0,\n",
       " 'So I Married an Axe Murderer (1993)': 4.0,\n",
       " 'Sound of Music, The (1965)': 1.0,\n",
       " 'Spitfire Grill, The (1996)': 2.0,\n",
       " 'Star Trek III: The Search for Spock (1984)': 4.0,\n",
       " 'Star Trek IV: The Voyage Home (1986)': 4.0,\n",
       " 'Star Trek VI: The Undiscovered Country (1991)': 4.0,\n",
       " 'Star Trek: First Contact (1996)': 4.0,\n",
       " 'Star Trek: The Wrath of Khan (1982)': 5.0,\n",
       " 'Star Wars (1977)': 5.0,\n",
       " 'Stargate (1994)': 3.0,\n",
       " 'Starship Troopers (1997)': 2.0,\n",
       " 'Steel (1997)': 1.0,\n",
       " 'Sting, The (1973)': 4.0,\n",
       " 'Strange Days (1995)': 4.0,\n",
       " 'Striptease (1996)': 1.0,\n",
       " 'Supercop (1992)': 4.0,\n",
       " 'Swingers (1996)': 5.0,\n",
       " 'Taxi Driver (1976)': 4.0,\n",
       " 'Terminator 2: Judgment Day (1991)': 5.0,\n",
       " 'Terminator, The (1984)': 5.0,\n",
       " 'Theodore Rex (1995)': 1.0,\n",
       " 'This Is Spinal Tap (1984)': 4.0,\n",
       " 'Three Colors: Blue (1993)': 5.0,\n",
       " 'Three Colors: Red (1994)': 5.0,\n",
       " 'Three Colors: White (1994)': 4.0,\n",
       " 'To Wong Foo, Thanks for Everything! Julie Newmar (1995)': 3.0,\n",
       " 'Top Gun (1986)': 4.0,\n",
       " 'Toy Story (1995)': 5.0,\n",
       " 'True Romance (1993)': 3.0,\n",
       " 'Truth About Cats & Dogs, The (1996)': 5.0,\n",
       " 'Turbo: A Power Rangers Movie (1997)': 1.0,\n",
       " 'Twelve Monkeys (1995)': 4.0,\n",
       " 'Twister (1996)': 3.0,\n",
       " 'Unbearable Lightness of Being, The (1988)': 4.0,\n",
       " 'Under Siege (1992)': 2.0,\n",
       " 'Unforgiven (1992)': 4.0,\n",
       " 'Unhook the Stars (1996)': 4.0,\n",
       " 'Usual Suspects, The (1995)': 5.0,\n",
       " 'Wallace & Gromit: The Best of Aardman Animation (1996)': 5.0,\n",
       " \"Weekend at Bernie's (1989)\": 3.0,\n",
       " 'Welcome to the Dollhouse (1995)': 5.0,\n",
       " \"What's Eating Gilbert Grape (1993)\": 4.0,\n",
       " 'When Harry Met Sally... (1989)': 5.0,\n",
       " 'When the Cats Away (Chacun cherche son chat) (1996)': 4.0,\n",
       " 'While You Were Sleeping (1995)': 4.0,\n",
       " 'White Balloon, The (1995)': 4.0,\n",
       " 'Willy Wonka and the Chocolate Factory (1971)': 4.0,\n",
       " 'Wizard of Oz, The (1939)': 4.0,\n",
       " 'Wrong Trousers, The (1993)': 5.0,\n",
       " 'Young Frankenstein (1974)': 5.0,\n",
       " 'Young Guns (1988)': 3.0,\n",
       " 'unknown': 4.0}"
      ]
     },
     "execution_count": 123,
     "metadata": {},
     "output_type": "execute_result"
    }
   ],
   "source": [
    "def loadMovieLens(path='ml-100k'):\n",
    "    # 获取影片标题\n",
    "    movies = {}\n",
    "    for line in open(path + '/u.item', encoding='ISO-8859-1'):\n",
    "        (id, title) = line.split('|')[0:2]\n",
    "        movies[id] = title\n",
    "        \n",
    "    # 加载数据\n",
    "    prefs = {}\n",
    "    for line in open(path + '/u.data', encoding='ISO-8859-1'):\n",
    "        (user, movieid, rating, ts) = line.split('\\t')\n",
    "        prefs.setdefault(user, {})\n",
    "        prefs[user][movies[movieid]] = float(rating)\n",
    "    return prefs\n",
    "prefs = loadMovieLens()\n",
    "prefs['1']"
   ]
  },
  {
   "cell_type": "code",
   "execution_count": 129,
   "metadata": {},
   "outputs": [
    {
     "data": {
      "text/plain": [
       "[(5.0, 'They Made Me a Criminal (1939)'),\n",
       " (5.0, 'Star Kid (1997)'),\n",
       " (5.0, 'Santa with Muscles (1996)'),\n",
       " (5.0, 'Saint of Fort Washington, The (1993)'),\n",
       " (5.0, 'Marlene Dietrich: Shadow and Light (1996) '),\n",
       " (5.0, 'Great Day in Harlem, A (1994)'),\n",
       " (5.0, 'Entertaining Angels: The Dorothy Day Story (1996)'),\n",
       " (5.0, 'Boys, Les (1997)'),\n",
       " (4.89884443128923, 'Legal Deceit (1997)'),\n",
       " (4.815019082242709, 'Letter From Death Row, A (1998)'),\n",
       " (4.800260666069042, 'Mrs. Dalloway (1997)'),\n",
       " (4.771240079753505, 'Leading Man, The (1996)'),\n",
       " (4.7321082983941425, 'Hearts and Minds (1996)'),\n",
       " (4.707354190896574, 'Dangerous Beauty (1998)'),\n",
       " (4.696244466490867, 'Pather Panchali (1955)'),\n",
       " (4.652397061026758, 'Lamerica (1994)'),\n",
       " (4.532337612572981, 'Innocents, The (1961)'),\n",
       " (4.527998574747076, 'Casablanca (1942)'),\n",
       " (4.512903125553784, 'Four Days in September (1997)'),\n",
       " (4.510270149719864, 'Everest (1998)'),\n",
       " (4.485151301801341, 'Wallace & Gromit: The Best of Aardman Animation (1996)'),\n",
       " (4.463287461290221, 'Wrong Trousers, The (1993)'),\n",
       " (4.450979436941034, 'Kaspar Hauser (1993)'),\n",
       " (4.431079071179518, 'Usual Suspects, The (1995)'),\n",
       " (4.427520682864958, 'Maya Lin: A Strong Clear Vision (1994)'),\n",
       " (4.414870784592075, 'Wedding Gift, The (1994)'),\n",
       " (4.407740300866056, 'Duoluo tianshi (1995)'),\n",
       " (4.393353032192905, 'Close Shave, A (1995)'),\n",
       " (4.377445252656463, 'Affair to Remember, An (1957)'),\n",
       " (4.374146179500976, 'Anna (1996)')]"
      ]
     },
     "execution_count": 129,
     "metadata": {},
     "output_type": "execute_result"
    }
   ],
   "source": [
    "# 使用基于用户的推荐\n",
    "getRecommendations(prefs, '87')[0:30]"
   ]
  },
  {
   "cell_type": "code",
   "execution_count": 127,
   "metadata": {},
   "outputs": [
    {
     "name": "stdout",
     "output_type": "stream",
     "text": [
      "100 / 1664\n",
      "200 / 1664\n",
      "300 / 1664\n",
      "400 / 1664\n",
      "500 / 1664\n",
      "600 / 1664\n",
      "700 / 1664\n",
      "800 / 1664\n",
      "900 / 1664\n",
      "1000 / 1664\n",
      "1100 / 1664\n",
      "1200 / 1664\n",
      "1300 / 1664\n",
      "1400 / 1664\n",
      "1500 / 1664\n",
      "1600 / 1664\n"
     ]
    }
   ],
   "source": [
    "# 使用基于物品的推荐\n",
    "itemsim = calculateSimilarItems(prefs, n=50)"
   ]
  },
  {
   "cell_type": "code",
   "execution_count": 128,
   "metadata": {},
   "outputs": [
    {
     "data": {
      "text/plain": [
       "[(5.0, \"What's Eating Gilbert Grape (1993)\"),\n",
       " (5.0, 'Vertigo (1958)'),\n",
       " (5.0, 'Usual Suspects, The (1995)'),\n",
       " (5.0, 'Toy Story (1995)'),\n",
       " (5.0, 'Titanic (1997)'),\n",
       " (5.0, 'Sword in the Stone, The (1963)'),\n",
       " (5.0, 'Stand by Me (1986)'),\n",
       " (5.0, 'Sling Blade (1996)'),\n",
       " (5.0, 'Silence of the Lambs, The (1991)'),\n",
       " (5.0, 'Shining, The (1980)'),\n",
       " (5.0, 'Shine (1996)'),\n",
       " (5.0, 'Sense and Sensibility (1995)'),\n",
       " (5.0, 'Scream (1996)'),\n",
       " (5.0, 'Rumble in the Bronx (1995)'),\n",
       " (5.0, 'Rock, The (1996)'),\n",
       " (5.0, 'Robin Hood: Prince of Thieves (1991)'),\n",
       " (5.0, 'Reservoir Dogs (1992)'),\n",
       " (5.0, 'Police Story 4: Project S (Chao ji ji hua) (1993)'),\n",
       " (5.0, 'House of the Spirits, The (1993)'),\n",
       " (5.0, 'Fresh (1994)'),\n",
       " (5.0, 'Denise Calls Up (1995)'),\n",
       " (5.0, 'Day the Sun Turned Cold, The (Tianguo niezi) (1994)'),\n",
       " (5.0, 'Before the Rain (Pred dozhdot) (1994)'),\n",
       " (5.0, 'Assignment, The (1997)'),\n",
       " (5.0, '1-900 (1994)'),\n",
       " (4.875, \"Ed's Next Move (1996)\"),\n",
       " (4.833333333333333, 'Anna (1996)'),\n",
       " (4.8, 'Dark City (1998)'),\n",
       " (4.75, 'Flower of My Secret, The (Flor de mi secreto, La) (1995)'),\n",
       " (4.75, 'Broken English (1996)')]"
      ]
     },
     "execution_count": 128,
     "metadata": {},
     "output_type": "execute_result"
    }
   ],
   "source": [
    "getRecommendedItems(prefs, itemsim, '87')[0:30]"
   ]
  }
 ],
 "metadata": {
  "kernelspec": {
   "display_name": "Python 3",
   "language": "python",
   "name": "python3"
  },
  "language_info": {
   "codemirror_mode": {
    "name": "ipython",
    "version": 3
   },
   "file_extension": ".py",
   "mimetype": "text/x-python",
   "name": "python",
   "nbconvert_exporter": "python",
   "pygments_lexer": "ipython3",
   "version": "3.6.2"
  }
 },
 "nbformat": 4,
 "nbformat_minor": 2
}
